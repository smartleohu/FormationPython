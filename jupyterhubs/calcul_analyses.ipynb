{
 "cells": [
  {
   "cell_type": "code",
   "execution_count": 4,
   "id": "1055f797-7bc3-499f-82e4-d89c00c0c0cf",
   "metadata": {
    "tags": []
   },
   "outputs": [
    {
     "name": "stdout",
     "output_type": "stream",
     "text": [
      "Requirement already satisfied: jupytext in /Users/ruijinghu/PycharmProjects/calcul_formation/venv/lib/python3.8/site-packages (1.14.5)\n",
      "Requirement already satisfied: pyyaml in /Users/ruijinghu/PycharmProjects/calcul_formation/venv/lib/python3.8/site-packages (from jupytext) (6.0)\n",
      "Requirement already satisfied: nbformat in /Users/ruijinghu/PycharmProjects/calcul_formation/venv/lib/python3.8/site-packages (from jupytext) (5.7.3)\n",
      "Requirement already satisfied: toml in /Users/ruijinghu/PycharmProjects/calcul_formation/venv/lib/python3.8/site-packages (from jupytext) (0.10.2)\n",
      "Requirement already satisfied: markdown-it-py<3.0.0,>=1.0.0 in /Users/ruijinghu/PycharmProjects/calcul_formation/venv/lib/python3.8/site-packages (from jupytext) (2.2.0)\n",
      "Requirement already satisfied: mdit-py-plugins in /Users/ruijinghu/PycharmProjects/calcul_formation/venv/lib/python3.8/site-packages (from jupytext) (0.3.5)\n",
      "Requirement already satisfied: mdurl~=0.1 in /Users/ruijinghu/PycharmProjects/calcul_formation/venv/lib/python3.8/site-packages (from markdown-it-py<3.0.0,>=1.0.0->jupytext) (0.1.2)\n",
      "Requirement already satisfied: jupyter-core in /Users/ruijinghu/PycharmProjects/calcul_formation/venv/lib/python3.8/site-packages (from nbformat->jupytext) (5.2.0)\n",
      "Requirement already satisfied: jsonschema>=2.6 in /Users/ruijinghu/PycharmProjects/calcul_formation/venv/lib/python3.8/site-packages (from nbformat->jupytext) (4.17.3)\n",
      "Requirement already satisfied: traitlets>=5.1 in /Users/ruijinghu/PycharmProjects/calcul_formation/venv/lib/python3.8/site-packages (from nbformat->jupytext) (5.9.0)\n",
      "Requirement already satisfied: fastjsonschema in /Users/ruijinghu/PycharmProjects/calcul_formation/venv/lib/python3.8/site-packages (from nbformat->jupytext) (2.16.3)\n",
      "Requirement already satisfied: importlib-resources>=1.4.0 in /Users/ruijinghu/PycharmProjects/calcul_formation/venv/lib/python3.8/site-packages (from jsonschema>=2.6->nbformat->jupytext) (5.12.0)\n",
      "Requirement already satisfied: attrs>=17.4.0 in /Users/ruijinghu/PycharmProjects/calcul_formation/venv/lib/python3.8/site-packages (from jsonschema>=2.6->nbformat->jupytext) (22.2.0)\n",
      "Requirement already satisfied: pkgutil-resolve-name>=1.3.10 in /Users/ruijinghu/PycharmProjects/calcul_formation/venv/lib/python3.8/site-packages (from jsonschema>=2.6->nbformat->jupytext) (1.3.10)\n",
      "Requirement already satisfied: pyrsistent!=0.17.0,!=0.17.1,!=0.17.2,>=0.14.0 in /Users/ruijinghu/PycharmProjects/calcul_formation/venv/lib/python3.8/site-packages (from jsonschema>=2.6->nbformat->jupytext) (0.19.3)\n",
      "Requirement already satisfied: platformdirs>=2.5 in /Users/ruijinghu/PycharmProjects/calcul_formation/venv/lib/python3.8/site-packages (from jupyter-core->nbformat->jupytext) (3.1.1)\n",
      "Requirement already satisfied: zipp>=3.1.0 in /Users/ruijinghu/PycharmProjects/calcul_formation/venv/lib/python3.8/site-packages (from importlib-resources>=1.4.0->jsonschema>=2.6->nbformat->jupytext) (3.15.0)\n",
      "[jupytext] Reading ./calcul_analyses.ipynb in format ipynb\n",
      "[jupytext] Writing ./calcul_analyses.py (destination file replaced)\n"
     ]
    }
   ],
   "source": [
    "!pip install jupytext --upgrade\n",
    "!jupytext --to py ./calcul_analyses.ipynb"
   ]
  },
  {
   "cell_type": "code",
   "execution_count": 2,
   "id": "add1c87c-b114-4e29-bb3e-28d57cde9492",
   "metadata": {
    "tags": []
   },
   "outputs": [
    {
     "data": {
      "text/plain": [
       "sys.version_info(major=3, minor=8, micro=0, releaselevel='final', serial=0)"
      ]
     },
     "execution_count": 2,
     "metadata": {},
     "output_type": "execute_result"
    }
   ],
   "source": [
    "import sys\n",
    "sys.version_info"
   ]
  },
  {
   "cell_type": "markdown",
   "id": "73964a14-1283-4b5c-baa1-4d71c1293479",
   "metadata": {},
   "source": [
    "# Notation\n",
    "https://fr.wikipedia.org/wiki/Notation_polonaise_inverse"
   ]
  },
  {
   "cell_type": "markdown",
   "id": "8006d6b2-8429-4030-b7c1-244a4096066c",
   "metadata": {},
   "source": [
    "***\n",
    "$\\mathbf{\\text{Noatition Polonaise Inverse}}$<br>\n",
    "***"
   ]
  },
  {
   "cell_type": "markdown",
   "id": "e4b5525c-10ab-4989-b29a-39c7de7ab08a",
   "metadata": {
    "tags": []
   },
   "source": [
    "![CPT-RPN](CPT-RPN-example1.png)"
   ]
  },
  {
   "cell_type": "markdown",
   "id": "02e9ced9-7fb4-423b-b520-db9d696ca9f0",
   "metadata": {},
   "source": [
    "### exo1: \n",
    "Utiliser le console en Pycharm et le notebook chez Jupyter lab pour commencer les manipulations arithmétiques sur les nombres. Afficher les résultats par print.  "
   ]
  },
  {
   "cell_type": "markdown",
   "id": "bb459349-c2e0-4d7e-9ef4-3ef29169104d",
   "metadata": {},
   "source": [
    "- +, -, *, / : les 4 opérations \n",
    "- ^ : la puissance \n",
    "- CEIL : l'arrondi vers le haut\n",
    "- COS, SIN, TAN, ACOS, ASIN, ATAN : fonctions trigonométriques \n",
    "- LN, LOG, EXP : fonctions logarithmiques (LN pour logarithme népérien, et LOG pour le logarithme décimal) "
   ]
  },
  {
   "cell_type": "code",
   "execution_count": 3,
   "id": "dff3be7b-3c29-417f-9ae2-ef9a8fc2e21b",
   "metadata": {
    "tags": []
   },
   "outputs": [],
   "source": [
    "import math"
   ]
  },
  {
   "cell_type": "code",
   "execution_count": 4,
   "id": "be39b927-ff14-41a6-96a0-6272de0a2352",
   "metadata": {
    "tags": []
   },
   "outputs": [
    {
     "data": {
      "text/plain": [
       "1000"
      ]
     },
     "execution_count": 4,
     "metadata": {},
     "output_type": "execute_result"
    }
   ],
   "source": [
    "10**3"
   ]
  },
  {
   "cell_type": "code",
   "execution_count": 5,
   "id": "ea1fa02c-06b5-4982-bbe9-48a3a7c1d2af",
   "metadata": {
    "tags": []
   },
   "outputs": [
    {
     "data": {
      "text/plain": [
       "0.0"
      ]
     },
     "execution_count": 5,
     "metadata": {},
     "output_type": "execute_result"
    }
   ],
   "source": [
    "math.log(1)"
   ]
  },
  {
   "cell_type": "code",
   "execution_count": 6,
   "id": "d71aa5d0-083e-40e4-9577-dfeef53ab2b7",
   "metadata": {
    "tags": []
   },
   "outputs": [
    {
     "data": {
      "text/plain": [
       "1.0"
      ]
     },
     "execution_count": 6,
     "metadata": {},
     "output_type": "execute_result"
    }
   ],
   "source": [
    "math.log10(10)"
   ]
  },
  {
   "cell_type": "code",
   "execution_count": 7,
   "id": "d55bc16d-45c3-4fb0-b5f7-30ac456ea9f9",
   "metadata": {
    "tags": []
   },
   "outputs": [
    {
     "data": {
      "text/plain": [
       "1.0"
      ]
     },
     "execution_count": 7,
     "metadata": {},
     "output_type": "execute_result"
    }
   ],
   "source": [
    "math.exp(0)"
   ]
  },
  {
   "cell_type": "code",
   "execution_count": 8,
   "id": "9d5f8afe-6987-4994-9f6e-170b07d93abb",
   "metadata": {
    "tags": []
   },
   "outputs": [
    {
     "data": {
      "text/plain": [
       "1.0"
      ]
     },
     "execution_count": 8,
     "metadata": {},
     "output_type": "execute_result"
    }
   ],
   "source": [
    "math.cos(0)"
   ]
  },
  {
   "cell_type": "code",
   "execution_count": 9,
   "id": "f2c96eea-c021-4d1a-aa6f-8b8987318257",
   "metadata": {
    "tags": []
   },
   "outputs": [
    {
     "data": {
      "text/plain": [
       "-1.0"
      ]
     },
     "execution_count": 9,
     "metadata": {},
     "output_type": "execute_result"
    }
   ],
   "source": [
    "math.cos(math.pi)"
   ]
  },
  {
   "cell_type": "code",
   "execution_count": 10,
   "id": "6a69b3a3-758f-44a9-8a8f-fa4790aff7a5",
   "metadata": {
    "tags": []
   },
   "outputs": [
    {
     "data": {
      "text/plain": [
       "30.0"
      ]
     },
     "execution_count": 10,
     "metadata": {},
     "output_type": "execute_result"
    }
   ],
   "source": [
    "round(math.degrees(math.asin(0.5)),2)"
   ]
  },
  {
   "cell_type": "markdown",
   "id": "ce53715a-27be-45f1-95c2-08baaddfc147",
   "metadata": {},
   "source": [
    "2 5 + DUP * "
   ]
  },
  {
   "cell_type": "code",
   "execution_count": 11,
   "id": "bc5757f2-1450-4b4b-89ac-c21f9ddfeda0",
   "metadata": {
    "tags": []
   },
   "outputs": [],
   "source": [
    "a, b = 2, 5"
   ]
  },
  {
   "cell_type": "code",
   "execution_count": 12,
   "id": "6bfa8092-012b-4653-bbc9-d6695a198308",
   "metadata": {
    "tags": []
   },
   "outputs": [],
   "source": [
    "c = a + b"
   ]
  },
  {
   "cell_type": "code",
   "execution_count": 13,
   "id": "b8d5ecdc-1f67-4587-b635-d1a195dce1df",
   "metadata": {
    "tags": []
   },
   "outputs": [],
   "source": [
    "c_bis = c"
   ]
  },
  {
   "cell_type": "code",
   "execution_count": 14,
   "id": "1229e83f-25a5-42b1-9e7c-8d8cfa74bd63",
   "metadata": {
    "tags": []
   },
   "outputs": [
    {
     "data": {
      "text/plain": [
       "49"
      ]
     },
     "execution_count": 14,
     "metadata": {},
     "output_type": "execute_result"
    }
   ],
   "source": [
    "c * c_bis"
   ]
  },
  {
   "cell_type": "markdown",
   "id": "05432063-0234-40ee-9f91-8006a9ce27a9",
   "metadata": {},
   "source": [
    "12 0.5 SIN * 36 0.5 COS * + ABS LOG "
   ]
  },
  {
   "cell_type": "code",
   "execution_count": 15,
   "id": "adc13f25-c86c-4747-ba1b-43aa1a0266e2",
   "metadata": {
    "tags": []
   },
   "outputs": [],
   "source": [
    "a, b = 12, 0.5"
   ]
  },
  {
   "cell_type": "code",
   "execution_count": 16,
   "id": "c23f30da-830e-453d-9a2e-50462f92351a",
   "metadata": {
    "tags": []
   },
   "outputs": [],
   "source": [
    "c = math.sin(b) * a"
   ]
  },
  {
   "cell_type": "code",
   "execution_count": 17,
   "id": "97fac54d-da7d-4aed-8bfa-2dab468ec765",
   "metadata": {
    "tags": []
   },
   "outputs": [],
   "source": [
    "d, e = 36, 0.5"
   ]
  },
  {
   "cell_type": "code",
   "execution_count": 18,
   "id": "f848c2b2-e0ef-42b7-a228-fc1a227be9b6",
   "metadata": {
    "tags": []
   },
   "outputs": [
    {
     "data": {
      "text/plain": [
       "37.34607869130386"
      ]
     },
     "execution_count": 18,
     "metadata": {},
     "output_type": "execute_result"
    }
   ],
   "source": [
    "f = math.cos(e) * d + c\n",
    "f"
   ]
  },
  {
   "cell_type": "code",
   "execution_count": 19,
   "id": "f2da3a27-e03a-4db2-a036-f43ba035fbc4",
   "metadata": {
    "tags": []
   },
   "outputs": [
    {
     "data": {
      "text/plain": [
       "37.34607869130386"
      ]
     },
     "execution_count": 19,
     "metadata": {},
     "output_type": "execute_result"
    }
   ],
   "source": [
    "g = abs(f)\n",
    "g"
   ]
  },
  {
   "cell_type": "code",
   "execution_count": 20,
   "id": "d47022db-76eb-45f0-8d4d-5070d6dc9173",
   "metadata": {
    "tags": []
   },
   "outputs": [
    {
     "data": {
      "text/plain": [
       "3.6202279178825454"
      ]
     },
     "execution_count": 20,
     "metadata": {},
     "output_type": "execute_result"
    }
   ],
   "source": [
    "math.log(g)"
   ]
  },
  {
   "cell_type": "code",
   "execution_count": 21,
   "id": "73bc71ae-892f-4ce1-83d3-33a9e3cf6991",
   "metadata": {
    "tags": []
   },
   "outputs": [
    {
     "data": {
      "text/plain": [
       "21.0"
      ]
     },
     "execution_count": 21,
     "metadata": {},
     "output_type": "execute_result"
    }
   ],
   "source": [
    "math.fabs(-21)"
   ]
  },
  {
   "cell_type": "code",
   "execution_count": 22,
   "id": "34ab9454-03eb-470b-b46a-7fec97a602a2",
   "metadata": {
    "tags": []
   },
   "outputs": [
    {
     "data": {
      "text/plain": [
       "21"
      ]
     },
     "execution_count": 22,
     "metadata": {},
     "output_type": "execute_result"
    }
   ],
   "source": [
    "abs(-21)"
   ]
  },
  {
   "cell_type": "code",
   "execution_count": 23,
   "id": "037552fa-81aa-45c6-8d60-a94993223898",
   "metadata": {
    "tags": []
   },
   "outputs": [
    {
     "data": {
      "text/plain": [
       "21.5"
      ]
     },
     "execution_count": 23,
     "metadata": {},
     "output_type": "execute_result"
    }
   ],
   "source": [
    "abs(-21.5)"
   ]
  },
  {
   "cell_type": "code",
   "execution_count": 24,
   "id": "92507c2e-79a8-44fb-ac7d-3950d775462b",
   "metadata": {
    "tags": []
   },
   "outputs": [
    {
     "data": {
      "text/plain": [
       "-21"
      ]
     },
     "execution_count": 24,
     "metadata": {},
     "output_type": "execute_result"
    }
   ],
   "source": [
    "math.ceil(-21.5)"
   ]
  },
  {
   "cell_type": "markdown",
   "id": "e3fc0d2a-b599-491a-8130-eb8cfbd00266",
   "metadata": {},
   "source": [
    "### Exo2:\n",
    "Interpréter les manipulations mathématiques en notation polonaise inverse, et verse versa.  "
   ]
  },
  {
   "cell_type": "markdown",
   "id": "520f6ee3-4e04-4831-b825-86d2ae2bce4f",
   "metadata": {},
   "source": [
    "1.&emsp;exemple $$\\frac{sin(\\frac{3\\times \\pi}{4})}{\\frac{3\\times \\pi}{4}}$$"
   ]
  },
  {
   "cell_type": "markdown",
   "id": "df76d531-d902-45e0-9d48-01cd549dc0ef",
   "metadata": {},
   "source": [
    "3 pi * 4 / DUP SIN SWAP / "
   ]
  },
  {
   "cell_type": "markdown",
   "id": "801a7fca-b56f-4e2c-aa0a-7544fc416f66",
   "metadata": {},
   "source": [
    "### Exo3:\n",
    "Utiliser la liste pour créer une pile. Pousser les éléments en notation polonaise inverse dans une liste.  "
   ]
  },
  {
   "cell_type": "code",
   "execution_count": 25,
   "id": "52e9606d-624d-4a5c-92ad-b2b4dcb3cf30",
   "metadata": {
    "tags": []
   },
   "outputs": [
    {
     "data": {
      "text/plain": [
       "'2 5 + DUP *'"
      ]
     },
     "execution_count": 25,
     "metadata": {},
     "output_type": "execute_result"
    }
   ],
   "source": [
    "text1 = '2 5 + DUP *'\n",
    "text1"
   ]
  },
  {
   "cell_type": "code",
   "execution_count": 26,
   "id": "6e0e291e-e680-4b19-b493-bd40b3be17b3",
   "metadata": {},
   "outputs": [
    {
     "data": {
      "text/plain": [
       "['2', '5', '+', 'DUP', '*']"
      ]
     },
     "execution_count": 26,
     "metadata": {},
     "output_type": "execute_result"
    }
   ],
   "source": [
    "elements =  text1.split()\n",
    "elements"
   ]
  },
  {
   "cell_type": "code",
   "execution_count": 27,
   "id": "50b2f7d5-c5b3-4833-80d7-8ab604384670",
   "metadata": {
    "tags": []
   },
   "outputs": [
    {
     "data": {
      "text/plain": [
       "'*'"
      ]
     },
     "execution_count": 27,
     "metadata": {},
     "output_type": "execute_result"
    }
   ],
   "source": [
    "elements.pop()"
   ]
  },
  {
   "cell_type": "code",
   "execution_count": 28,
   "id": "5df238e0-f72d-4a47-b7c6-ffe62ddca6c3",
   "metadata": {
    "tags": []
   },
   "outputs": [
    {
     "data": {
      "text/plain": [
       "['2', '5', '+', 'DUP']"
      ]
     },
     "execution_count": 28,
     "metadata": {},
     "output_type": "execute_result"
    }
   ],
   "source": [
    "elements"
   ]
  },
  {
   "cell_type": "code",
   "execution_count": 29,
   "id": "8f8aa2d7-802b-477c-86eb-04f1e6cf67be",
   "metadata": {
    "tags": []
   },
   "outputs": [],
   "source": [
    "elements.append('*')"
   ]
  },
  {
   "cell_type": "code",
   "execution_count": 30,
   "id": "9aa105d8-b42e-4d4f-ad59-1111ac6b2e71",
   "metadata": {
    "tags": []
   },
   "outputs": [
    {
     "data": {
      "text/plain": [
       "['2', '5', '+', 'DUP', '*']"
      ]
     },
     "execution_count": 30,
     "metadata": {},
     "output_type": "execute_result"
    }
   ],
   "source": [
    "elements"
   ]
  },
  {
   "cell_type": "code",
   "execution_count": 31,
   "id": "10bef144-4b31-4136-b9ec-6e8643568ee5",
   "metadata": {
    "tags": []
   },
   "outputs": [
    {
     "data": {
      "text/plain": [
       "'2'"
      ]
     },
     "execution_count": 31,
     "metadata": {},
     "output_type": "execute_result"
    }
   ],
   "source": [
    "elements.pop(0)"
   ]
  },
  {
   "cell_type": "code",
   "execution_count": 32,
   "id": "ed520bcc-eac9-487f-b456-d06b58335bf4",
   "metadata": {
    "tags": []
   },
   "outputs": [
    {
     "data": {
      "text/plain": [
       "['5', '+', 'DUP', '*']"
      ]
     },
     "execution_count": 32,
     "metadata": {},
     "output_type": "execute_result"
    }
   ],
   "source": [
    "elements"
   ]
  },
  {
   "cell_type": "code",
   "execution_count": 33,
   "id": "4bb79192-fb27-44c0-b461-373081ece2fd",
   "metadata": {
    "tags": []
   },
   "outputs": [],
   "source": [
    "elements.insert(0, '2')"
   ]
  },
  {
   "cell_type": "code",
   "execution_count": 34,
   "id": "641ecaef-28b1-4666-a486-82d1aeb36e61",
   "metadata": {
    "tags": []
   },
   "outputs": [
    {
     "data": {
      "text/plain": [
       "['2', '5', '+', 'DUP', '*']"
      ]
     },
     "execution_count": 34,
     "metadata": {},
     "output_type": "execute_result"
    }
   ],
   "source": [
    "elements"
   ]
  },
  {
   "cell_type": "code",
   "execution_count": 35,
   "id": "97bbd681-6613-4fa1-a8d1-e9fc67e7bcf7",
   "metadata": {
    "tags": []
   },
   "outputs": [
    {
     "ename": "IndexError",
     "evalue": "pop index out of range",
     "output_type": "error",
     "traceback": [
      "\u001b[0;31m---------------------------------------------------------------------------\u001b[0m",
      "\u001b[0;31mIndexError\u001b[0m                                Traceback (most recent call last)",
      "Cell \u001b[0;32mIn[35], line 1\u001b[0m\n\u001b[0;32m----> 1\u001b[0m \u001b[43melements\u001b[49m\u001b[38;5;241;43m.\u001b[39;49m\u001b[43mpop\u001b[49m\u001b[43m(\u001b[49m\u001b[38;5;241;43m5\u001b[39;49m\u001b[43m)\u001b[49m\n\u001b[1;32m      2\u001b[0m elements\n",
      "\u001b[0;31mIndexError\u001b[0m: pop index out of range"
     ]
    }
   ],
   "source": [
    "elements.pop(5)\n",
    "elements"
   ]
  },
  {
   "cell_type": "code",
   "execution_count": 36,
   "id": "3dad0881-b7bf-4630-92bf-721c998a3ba8",
   "metadata": {
    "tags": []
   },
   "outputs": [
    {
     "data": {
      "text/plain": [
       "'*'"
      ]
     },
     "execution_count": 36,
     "metadata": {},
     "output_type": "execute_result"
    }
   ],
   "source": [
    "elements =  text1.split()\n",
    "elements.pop(4)"
   ]
  },
  {
   "cell_type": "code",
   "execution_count": 37,
   "id": "bd1595a8-f181-4dcd-8b84-9ac683f1f2b2",
   "metadata": {
    "tags": []
   },
   "outputs": [
    {
     "data": {
      "text/plain": [
       "['2', '5', '+', 'DUP', '*']"
      ]
     },
     "execution_count": 37,
     "metadata": {},
     "output_type": "execute_result"
    }
   ],
   "source": [
    "elements + ['*']"
   ]
  },
  {
   "cell_type": "code",
   "execution_count": 38,
   "id": "186bf740-df01-4e97-8879-8f55d47d653e",
   "metadata": {
    "tags": []
   },
   "outputs": [
    {
     "data": {
      "text/plain": [
       "'*'"
      ]
     },
     "execution_count": 38,
     "metadata": {},
     "output_type": "execute_result"
    }
   ],
   "source": [
    "elements =  text1.split()\n",
    "elements.pop()"
   ]
  },
  {
   "cell_type": "code",
   "execution_count": 39,
   "id": "83637bf9-8318-4916-b924-31d38306b7a0",
   "metadata": {
    "tags": []
   },
   "outputs": [],
   "source": [
    "elements.extend(['*'])"
   ]
  },
  {
   "cell_type": "code",
   "execution_count": 40,
   "id": "1d690b4a-3e72-4a81-9403-9346f21c555d",
   "metadata": {
    "tags": []
   },
   "outputs": [
    {
     "data": {
      "text/plain": [
       "['2', '5', '+', 'DUP', '*']"
      ]
     },
     "execution_count": 40,
     "metadata": {},
     "output_type": "execute_result"
    }
   ],
   "source": [
    "elements"
   ]
  },
  {
   "cell_type": "code",
   "execution_count": 41,
   "id": "2853b8ed-7d6d-495a-ba5a-b7b7f155818a",
   "metadata": {
    "tags": []
   },
   "outputs": [],
   "source": [
    "elements =  text1.split()\n",
    "elements.reverse()"
   ]
  },
  {
   "cell_type": "code",
   "execution_count": 42,
   "id": "d3e5d932-ddfc-48f3-b792-d820139c8976",
   "metadata": {
    "tags": []
   },
   "outputs": [
    {
     "data": {
      "text/plain": [
       "['*', 'DUP', '+', '5', '2']"
      ]
     },
     "execution_count": 42,
     "metadata": {},
     "output_type": "execute_result"
    }
   ],
   "source": [
    "elements"
   ]
  },
  {
   "cell_type": "code",
   "execution_count": 43,
   "id": "64354ffe-0d6d-4d77-b18d-3769a0966b6d",
   "metadata": {
    "tags": []
   },
   "outputs": [
    {
     "data": {
      "text/plain": [
       "<list_reverseiterator at 0x7fcf71b8dbe0>"
      ]
     },
     "execution_count": 43,
     "metadata": {},
     "output_type": "execute_result"
    }
   ],
   "source": [
    "reversed(elements)"
   ]
  },
  {
   "cell_type": "code",
   "execution_count": 44,
   "id": "8ef19929-c509-4d28-bd72-71d860cac0a8",
   "metadata": {
    "tags": []
   },
   "outputs": [
    {
     "data": {
      "text/plain": [
       "['*', '+', '2', '5', 'DUP']"
      ]
     },
     "execution_count": 44,
     "metadata": {},
     "output_type": "execute_result"
    }
   ],
   "source": [
    "sorted(elements)"
   ]
  },
  {
   "cell_type": "code",
   "execution_count": 45,
   "id": "b6a83448-1741-4ecc-a6dd-66b146a1de83",
   "metadata": {
    "tags": []
   },
   "outputs": [
    {
     "data": {
      "text/plain": [
       "['*', 'DUP', '+', '5', '2']"
      ]
     },
     "execution_count": 45,
     "metadata": {},
     "output_type": "execute_result"
    }
   ],
   "source": [
    "elements"
   ]
  },
  {
   "cell_type": "code",
   "execution_count": 46,
   "id": "06ba8057-83ef-4570-963e-379e388dc58f",
   "metadata": {
    "tags": []
   },
   "outputs": [],
   "source": [
    "elements.sort()"
   ]
  },
  {
   "cell_type": "code",
   "execution_count": 47,
   "id": "5d97ba32-c4f6-4288-9700-d193f2999790",
   "metadata": {
    "tags": []
   },
   "outputs": [
    {
     "data": {
      "text/plain": [
       "['*', '+', '2', '5', 'DUP']"
      ]
     },
     "execution_count": 47,
     "metadata": {},
     "output_type": "execute_result"
    }
   ],
   "source": [
    "elements"
   ]
  },
  {
   "cell_type": "code",
   "execution_count": 48,
   "id": "82bf24ad-3b50-4736-ae5f-a3b18411dddf",
   "metadata": {
    "tags": []
   },
   "outputs": [],
   "source": [
    "elements.remove('DUP')"
   ]
  },
  {
   "cell_type": "code",
   "execution_count": 49,
   "id": "c2077d3f-d798-4225-9d16-e0d2367c67fb",
   "metadata": {
    "tags": []
   },
   "outputs": [
    {
     "data": {
      "text/plain": [
       "['*', '+', '2', '5']"
      ]
     },
     "execution_count": 49,
     "metadata": {},
     "output_type": "execute_result"
    }
   ],
   "source": [
    "elements"
   ]
  },
  {
   "cell_type": "code",
   "execution_count": 50,
   "id": "b8e5d59d-ce9a-4cfe-9706-2f91dc943f68",
   "metadata": {
    "tags": []
   },
   "outputs": [
    {
     "ename": "ValueError",
     "evalue": "list.remove(x): x not in list",
     "output_type": "error",
     "traceback": [
      "\u001b[0;31m---------------------------------------------------------------------------\u001b[0m",
      "\u001b[0;31mValueError\u001b[0m                                Traceback (most recent call last)",
      "Cell \u001b[0;32mIn[50], line 1\u001b[0m\n\u001b[0;32m----> 1\u001b[0m \u001b[43melements\u001b[49m\u001b[38;5;241;43m.\u001b[39;49m\u001b[43mremove\u001b[49m\u001b[43m(\u001b[49m\u001b[38;5;124;43m'\u001b[39;49m\u001b[38;5;124;43mDUP\u001b[39;49m\u001b[38;5;124;43m'\u001b[39;49m\u001b[43m)\u001b[49m\n",
      "\u001b[0;31mValueError\u001b[0m: list.remove(x): x not in list"
     ]
    }
   ],
   "source": [
    "elements.remove('DUP')"
   ]
  },
  {
   "cell_type": "code",
   "execution_count": 51,
   "id": "d2e96331-15ee-4923-bf1f-900a5856882d",
   "metadata": {
    "tags": []
   },
   "outputs": [
    {
     "data": {
      "text/plain": [
       "['2', '5', '+', 'DUP', '*']"
      ]
     },
     "execution_count": 51,
     "metadata": {},
     "output_type": "execute_result"
    }
   ],
   "source": [
    "stack1 =  text1.split()\n",
    "stack1"
   ]
  },
  {
   "cell_type": "markdown",
   "id": "b483002c-56c0-49a8-944a-c2a75b3a3b2f",
   "metadata": {},
   "source": [
    "### Exo4\n",
    "Définir 3 fonctions pour mettre en œuvre les manipulations logiques : DUP, DROP, SWAP. "
   ]
  },
  {
   "cell_type": "code",
   "execution_count": 52,
   "id": "2aae2b78-36d5-4d26-9705-0ff8f947d802",
   "metadata": {
    "tags": []
   },
   "outputs": [
    {
     "data": {
      "text/plain": [
       "['2', '5']"
      ]
     },
     "execution_count": 52,
     "metadata": {},
     "output_type": "execute_result"
    }
   ],
   "source": [
    "stack_org = ['2', '5']\n",
    "stack_org"
   ]
  },
  {
   "cell_type": "code",
   "execution_count": 53,
   "id": "b3e6b5cd-82cb-4c70-86a0-df9d25da61d4",
   "metadata": {
    "tags": []
   },
   "outputs": [
    {
     "name": "stdout",
     "output_type": "stream",
     "text": [
      "DUP sur ['2', '5'] est ['2', '5', '5']\n"
     ]
    }
   ],
   "source": [
    "def dup(stack):\n",
    "    stack.append(stack[-1])\n",
    "stack_copy = stack_org.copy()\n",
    "dup(stack_copy)\n",
    "print(f\"DUP sur {stack_org} est {stack_copy}\")"
   ]
  },
  {
   "cell_type": "code",
   "execution_count": 54,
   "id": "7ca66684-2d62-444c-b01b-bc0443bf49c8",
   "metadata": {
    "tags": []
   },
   "outputs": [
    {
     "name": "stdout",
     "output_type": "stream",
     "text": [
      "DROP sur ['2', '5'] est ['2']\n"
     ]
    }
   ],
   "source": [
    "def drop(stack):\n",
    "    stack.pop()\n",
    "stack_copy = stack_org.copy()\n",
    "drop(stack_copy)\n",
    "print(f\"DROP sur {stack_org} est {stack_copy}\")"
   ]
  },
  {
   "cell_type": "code",
   "execution_count": 55,
   "id": "b1b123ad-8c57-4790-b019-cd96f2720b8a",
   "metadata": {
    "tags": []
   },
   "outputs": [
    {
     "name": "stdout",
     "output_type": "stream",
     "text": [
      "SWAP sur ['2', '5'] est ['5', '2']\n"
     ]
    }
   ],
   "source": [
    "def swap(stack):\n",
    "    x, y = stack.pop(), stack.pop()\n",
    "    stack.append(x)\n",
    "    stack.append(y)\n",
    "stack_copy = stack_org.copy()\n",
    "swap(stack_copy)\n",
    "print(f\"SWAP sur {stack_org} est {stack_copy}\")"
   ]
  },
  {
   "cell_type": "markdown",
   "id": "e2993fb4-366d-4dc4-b988-5dc1fbcfb926",
   "metadata": {
    "tags": []
   },
   "source": [
    "### Exo5\n",
    "Distinguer deux types d’opérateurs : unitaires et binaires pour les manipulations.  "
   ]
  },
  {
   "cell_type": "markdown",
   "id": "8d1886c4-de2e-451b-844f-6d60e5828478",
   "metadata": {},
   "source": [
    "\\+ \\- * / sont unitaires"
   ]
  },
  {
   "cell_type": "markdown",
   "id": "dca0a21e-3d03-406d-861f-08f35c696021",
   "metadata": {},
   "source": [
    "### Exo6 \n",
    "Définir les fonctions lambda (anonymes) pour les opérateurs. "
   ]
  },
  {
   "cell_type": "code",
   "execution_count": 56,
   "id": "479e3b4c-822e-4c12-8578-616826fcd373",
   "metadata": {
    "tags": []
   },
   "outputs": [
    {
     "data": {
      "text/plain": [
       "13"
      ]
     },
     "execution_count": 56,
     "metadata": {},
     "output_type": "execute_result"
    }
   ],
   "source": [
    "(lambda x, y: x + y)(10, 3)"
   ]
  },
  {
   "cell_type": "code",
   "execution_count": 57,
   "id": "7fb73fd0-ed1b-45f5-b2e0-12535fe22a3a",
   "metadata": {
    "tags": []
   },
   "outputs": [
    {
     "data": {
      "text/plain": [
       "7"
      ]
     },
     "execution_count": 57,
     "metadata": {},
     "output_type": "execute_result"
    }
   ],
   "source": [
    "(lambda x, y: x - y)(10, 3)"
   ]
  },
  {
   "cell_type": "code",
   "execution_count": 58,
   "id": "d1a22a4c-085a-44dc-86f3-3bf153208a2e",
   "metadata": {
    "tags": []
   },
   "outputs": [
    {
     "data": {
      "text/plain": [
       "30"
      ]
     },
     "execution_count": 58,
     "metadata": {},
     "output_type": "execute_result"
    }
   ],
   "source": [
    "(lambda x, y: x * y)(10, 3)"
   ]
  },
  {
   "cell_type": "code",
   "execution_count": 59,
   "id": "86003b91-a903-444d-bbe3-bb81407db052",
   "metadata": {
    "tags": []
   },
   "outputs": [
    {
     "data": {
      "text/plain": [
       "3.3333333333333335"
      ]
     },
     "execution_count": 59,
     "metadata": {},
     "output_type": "execute_result"
    }
   ],
   "source": [
    "(lambda x, y: x / y)(10, 3)"
   ]
  },
  {
   "cell_type": "code",
   "execution_count": 60,
   "id": "f299fa45-3c95-4cad-8837-fa2ee219a801",
   "metadata": {
    "tags": []
   },
   "outputs": [
    {
     "data": {
      "text/plain": [
       "1000"
      ]
     },
     "execution_count": 60,
     "metadata": {},
     "output_type": "execute_result"
    }
   ],
   "source": [
    "(lambda x, y: x ** y)(10, 3)"
   ]
  },
  {
   "cell_type": "markdown",
   "id": "e476d976-4f54-4161-8948-692bb32aa6bb",
   "metadata": {
    "tags": []
   },
   "source": [
    "### Exo7\n",
    "Définir deux foncteurs : fct1 et fct2 pour prendre en argument d’entrée tous ces opérateurs de fonction lambda. "
   ]
  },
  {
   "cell_type": "code",
   "execution_count": 61,
   "id": "e0ab67c2-7831-4faa-8f99-7eec1d744958",
   "metadata": {
    "tags": []
   },
   "outputs": [
    {
     "data": {
      "text/plain": [
       "[2, 10]"
      ]
     },
     "execution_count": 61,
     "metadata": {},
     "output_type": "execute_result"
    }
   ],
   "source": [
    "stack_org = [2, 10]\n",
    "stack_org"
   ]
  },
  {
   "cell_type": "code",
   "execution_count": 62,
   "id": "acbca632-e74c-4ef8-a64c-e1acf659de9f",
   "metadata": {
    "tags": []
   },
   "outputs": [
    {
     "name": "stdout",
     "output_type": "stream",
     "text": [
      "None\n",
      "appliquer log10 sur stack_org est [2, 1.0]\n"
     ]
    }
   ],
   "source": [
    "def fct1(fct):\n",
    "    def _fct(stack):\n",
    "        stack.append(fct(stack.pop()))\n",
    "\n",
    "    return _fct\n",
    "\n",
    "stack_cpy = stack_org.copy()\n",
    "print(fct1(math.log10)(stack_cpy))\n",
    "print(f\"appliquer log10 sur stack_org est {stack_cpy}\")"
   ]
  },
  {
   "cell_type": "code",
   "execution_count": 63,
   "id": "ea6ad407-f57f-4be3-a43d-9f14483f03aa",
   "metadata": {
    "tags": []
   },
   "outputs": [
    {
     "name": "stdout",
     "output_type": "stream",
     "text": [
      "None\n",
      "appliquer POWER sur [2, 10] est [1024]\n"
     ]
    }
   ],
   "source": [
    "def fct2(fct):\n",
    "    def _fct(stack):\n",
    "        y, x = stack.pop(), stack.pop()\n",
    "        stack.append(fct(x, y))\n",
    "\n",
    "    return _fct\n",
    "\n",
    "stack_cpy = stack_org.copy()\n",
    "print(fct2(lambda x, y: x ** y)(stack_cpy))\n",
    "print(f\"appliquer POWER sur {stack_org} est {stack_cpy}\")"
   ]
  },
  {
   "cell_type": "markdown",
   "id": "b866e2c9-4ab6-48b5-ab52-264004c18a59",
   "metadata": {},
   "source": [
    "### Exo8\n",
    "Créer un dictionnaire COMMANDS pour faire la correspondance entre les noms des opérateurs et ses définitions en foncteur.  "
   ]
  },
  {
   "cell_type": "code",
   "execution_count": 64,
   "id": "cfb58bb3-254d-417e-9929-686d74158bea",
   "metadata": {
    "tags": []
   },
   "outputs": [],
   "source": [
    "from pprint import pprint"
   ]
  },
  {
   "cell_type": "code",
   "execution_count": 65,
   "id": "e034abc0-1870-48d1-98ea-12357dc43540",
   "metadata": {
    "tags": []
   },
   "outputs": [
    {
     "name": "stdout",
     "output_type": "stream",
     "text": [
      "{'*': <function fct2.<locals>._fct at 0x7fcf71835280>,\n",
      " '+': <function fct2.<locals>._fct at 0x7fcf71caa790>,\n",
      " '-': <function fct2.<locals>._fct at 0x7fcf71835700>,\n",
      " '/': <function fct2.<locals>._fct at 0x7fcf718354c0>,\n",
      " 'ABS': <function fct1.<locals>._fct at 0x7fcf717f48b0>,\n",
      " 'ACOS': <function fct1.<locals>._fct at 0x7fcf717f4700>,\n",
      " 'ASIN': <function fct1.<locals>._fct at 0x7fcf717f4040>,\n",
      " 'ATAN': <function fct1.<locals>._fct at 0x7fcf717f4b80>,\n",
      " 'CEIL': <function fct1.<locals>._fct at 0x7fcf717f4550>,\n",
      " 'COS': <function fct1.<locals>._fct at 0x7fcf71835550>,\n",
      " 'DROP': <function drop at 0x7fcf71caaf70>,\n",
      " 'DUP': <function dup at 0x7fcf71cffb80>,\n",
      " 'EXP': <function fct1.<locals>._fct at 0x7fcf717f4430>,\n",
      " 'LN': <function fct1.<locals>._fct at 0x7fcf717f4af0>,\n",
      " 'LOG': <function fct1.<locals>._fct at 0x7fcf717f4940>,\n",
      " 'SIN': <function fct1.<locals>._fct at 0x7fcf717f4820>,\n",
      " 'SWAP': <function swap at 0x7fcf71caaa60>,\n",
      " 'TAN': <function fct1.<locals>._fct at 0x7fcf717f4310>,\n",
      " '^': <function fct2.<locals>._fct at 0x7fcf71835040>}\n"
     ]
    }
   ],
   "source": [
    "COMMANDS = {'+': fct2(lambda x, y: x + y),\n",
    "            '-': fct2(lambda x, y: x - y),\n",
    "            '*': fct2(lambda x, y: x * y),\n",
    "            '/': fct2(lambda x, y: x / y),\n",
    "            '^': fct2(lambda x, y: x ** y),\n",
    "            'COS': fct1(math.cos),\n",
    "            'SIN': fct1(math.sin),\n",
    "            'TAN': fct1(math.tan),\n",
    "            'ACOS': fct1(math.acos),\n",
    "            'ASIN': fct1(math.asin),\n",
    "            \"CEIL\": fct1(math.ceil),\n",
    "            'ATAN': fct1(math.atan),\n",
    "            'LN': fct1(math.log),\n",
    "            'LOG': fct1(math.log10),\n",
    "            'EXP': fct1(math.exp),\n",
    "            'ABS': fct1(math.fabs),\n",
    "            'DUP': dup,\n",
    "            'SWAP': swap,\n",
    "            'DROP': drop,\n",
    "            }\n",
    "\n",
    "pprint(COMMANDS)"
   ]
  },
  {
   "cell_type": "code",
   "execution_count": 66,
   "id": "9abdd2a1-f434-43d5-b5b6-3e81a3517d68",
   "metadata": {
    "tags": []
   },
   "outputs": [
    {
     "data": {
      "text/plain": [
       "[2, 1]"
      ]
     },
     "execution_count": 66,
     "metadata": {},
     "output_type": "execute_result"
    }
   ],
   "source": [
    "stack_org = [2, 1]\n",
    "stack_org"
   ]
  },
  {
   "cell_type": "code",
   "execution_count": 67,
   "id": "adc129d2-63a5-4ce2-8613-1a6a1baba8f0",
   "metadata": {
    "tags": []
   },
   "outputs": [
    {
     "name": "stdout",
     "output_type": "stream",
     "text": [
      "appliquer + sur [2, 1] est [3]\n",
      "appliquer - sur [2, 1] est [1]\n",
      "appliquer * sur [2, 1] est [2]\n",
      "appliquer / sur [2, 1] est [2.0]\n",
      "appliquer ^ sur [2, 1] est [2]\n",
      "appliquer COS sur [2, 1] est [2, 0.5403023058681398]\n",
      "appliquer SIN sur [2, 1] est [2, 0.8414709848078965]\n",
      "appliquer TAN sur [2, 1] est [2, 1.557407724654902]\n",
      "appliquer ACOS sur [2, 1] est [2, 0.0]\n",
      "appliquer ASIN sur [2, 1] est [2, 1.5707963267948966]\n",
      "appliquer CEIL sur [2, 1] est [2, 1]\n",
      "appliquer ATAN sur [2, 1] est [2, 0.7853981633974483]\n",
      "appliquer LN sur [2, 1] est [2, 0.0]\n",
      "appliquer LOG sur [2, 1] est [2, 0.0]\n",
      "appliquer EXP sur [2, 1] est [2, 2.718281828459045]\n",
      "appliquer ABS sur [2, 1] est [2, 1.0]\n",
      "appliquer DUP sur [2, 1] est [2, 1, 1]\n",
      "appliquer SWAP sur [2, 1] est [1, 2]\n",
      "appliquer DROP sur [2, 1] est [2]\n"
     ]
    }
   ],
   "source": [
    "for operator, fct in COMMANDS.items():\n",
    "    stack_cpy = stack_org.copy()\n",
    "    fct(stack_cpy)\n",
    "    print(f\"appliquer {operator} sur {stack_org} est {stack_cpy}\")"
   ]
  },
  {
   "cell_type": "markdown",
   "id": "ffac91c4-3c46-42bf-847f-ddb882288ec4",
   "metadata": {},
   "source": [
    "### Exo9\n",
    "Définir la fonction interpreter(text : str) pour interpréter un texte en chaîne de  caractères pour calculer le résultat. \n",
    "##### a. Utiliser IF et ELIF "
   ]
  },
  {
   "cell_type": "code",
   "execution_count": 68,
   "id": "88a548d2-149e-46b5-ae37-485ff947bf50",
   "metadata": {
    "tags": []
   },
   "outputs": [],
   "source": [
    "def interpreter(text: str, line_number: int = 0):\n",
    "    # decompose\n",
    "    stack = []\n",
    "    commands = text.split()\n",
    "\n",
    "    # execute commands\n",
    "    for command in commands:\n",
    "        # is it a number?\n",
    "        if str(command[-1]).replace('.', '').isdigit():\n",
    "            stack.append(float(command))\n",
    "            continue\n",
    "        elif command in COMMANDS:\n",
    "            fct = COMMANDS[command]\n",
    "        else:\n",
    "            print(\n",
    "                F\"ERROR: [line={line_number}]: unknown error on executing \"\n",
    "                F\"'{command}' witch stack {stack}\")\n",
    "            return\n",
    "\n",
    "        if command in ('+', '-', '*', '/'):\n",
    "            if len(stack) > 1:\n",
    "                fct(stack)\n",
    "        elif len(stack) > 0:\n",
    "            fct(stack)\n",
    "        else:\n",
    "            print(\n",
    "                F\"ERROR: [line={line_number}]: unknown error on executing \"\n",
    "                F\"'{command}' witch stack {stack}\")\n",
    "            return\n",
    "\n",
    "    return stack"
   ]
  },
  {
   "cell_type": "code",
   "execution_count": 69,
   "id": "ebeb9634-f3d7-4e31-b002-01803bae37fd",
   "metadata": {
    "tags": []
   },
   "outputs": [
    {
     "name": "stdout",
     "output_type": "stream",
     "text": [
      "[0.30061609709062936]\n"
     ]
    }
   ],
   "source": [
    "text_1 = '3 3.14 * 4 / DUP SIN SWAP /'\n",
    "stack_1 = interpreter(text_1)\n",
    "print(stack_1)"
   ]
  },
  {
   "cell_type": "code",
   "execution_count": 70,
   "id": "2d2b865f-4170-4815-b9cf-4d048a2a7f42",
   "metadata": {
    "tags": []
   },
   "outputs": [
    {
     "name": "stdout",
     "output_type": "stream",
     "text": [
      "ERROR: [line=0]: unknown error on executing 'pi' witch stack [3.0]\n",
      "None\n"
     ]
    }
   ],
   "source": [
    "text_2 = '3 pi * 4 / DUP SIN SWAP /'\n",
    "stack_2 = interpreter(text_2)\n",
    "print(stack_2)"
   ]
  },
  {
   "cell_type": "code",
   "execution_count": 71,
   "id": "a98beac2-cee1-4648-acf1-8d87e62b5af7",
   "metadata": {
    "tags": []
   },
   "outputs": [
    {
     "name": "stdout",
     "output_type": "stream",
     "text": [
      "[0.1411200080598672]\n"
     ]
    }
   ],
   "source": [
    "text_3 = '3 SIN /'\n",
    "stack_3 = interpreter(text_3)\n",
    "print(stack_3)"
   ]
  },
  {
   "cell_type": "code",
   "execution_count": 72,
   "id": "47d20648-38ed-46e9-b2a1-52ae2196514d",
   "metadata": {
    "tags": []
   },
   "outputs": [
    {
     "ename": "ZeroDivisionError",
     "evalue": "float division by zero",
     "output_type": "error",
     "traceback": [
      "\u001b[0;31m---------------------------------------------------------------------------\u001b[0m",
      "\u001b[0;31mZeroDivisionError\u001b[0m                         Traceback (most recent call last)",
      "Cell \u001b[0;32mIn[72], line 2\u001b[0m\n\u001b[1;32m      1\u001b[0m text_3 \u001b[38;5;241m=\u001b[39m \u001b[38;5;124m'\u001b[39m\u001b[38;5;124m3 0 /\u001b[39m\u001b[38;5;124m'\u001b[39m\n\u001b[0;32m----> 2\u001b[0m stack_3 \u001b[38;5;241m=\u001b[39m \u001b[43minterpreter\u001b[49m\u001b[43m(\u001b[49m\u001b[43mtext_3\u001b[49m\u001b[43m)\u001b[49m\n\u001b[1;32m      3\u001b[0m \u001b[38;5;28mprint\u001b[39m(stack_3)\n",
      "Cell \u001b[0;32mIn[68], line 22\u001b[0m, in \u001b[0;36minterpreter\u001b[0;34m(text, line_number)\u001b[0m\n\u001b[1;32m     20\u001b[0m \u001b[38;5;28;01mif\u001b[39;00m command \u001b[38;5;129;01min\u001b[39;00m (\u001b[38;5;124m'\u001b[39m\u001b[38;5;124m+\u001b[39m\u001b[38;5;124m'\u001b[39m, \u001b[38;5;124m'\u001b[39m\u001b[38;5;124m-\u001b[39m\u001b[38;5;124m'\u001b[39m, \u001b[38;5;124m'\u001b[39m\u001b[38;5;124m*\u001b[39m\u001b[38;5;124m'\u001b[39m, \u001b[38;5;124m'\u001b[39m\u001b[38;5;124m/\u001b[39m\u001b[38;5;124m'\u001b[39m):\n\u001b[1;32m     21\u001b[0m     \u001b[38;5;28;01mif\u001b[39;00m \u001b[38;5;28mlen\u001b[39m(stack) \u001b[38;5;241m>\u001b[39m \u001b[38;5;241m1\u001b[39m:\n\u001b[0;32m---> 22\u001b[0m         \u001b[43mfct\u001b[49m\u001b[43m(\u001b[49m\u001b[43mstack\u001b[49m\u001b[43m)\u001b[49m\n\u001b[1;32m     23\u001b[0m \u001b[38;5;28;01melif\u001b[39;00m \u001b[38;5;28mlen\u001b[39m(stack) \u001b[38;5;241m>\u001b[39m \u001b[38;5;241m0\u001b[39m:\n\u001b[1;32m     24\u001b[0m     fct(stack)\n",
      "Cell \u001b[0;32mIn[63], line 4\u001b[0m, in \u001b[0;36mfct2.<locals>._fct\u001b[0;34m(stack)\u001b[0m\n\u001b[1;32m      2\u001b[0m \u001b[38;5;28;01mdef\u001b[39;00m \u001b[38;5;21m_fct\u001b[39m(stack):\n\u001b[1;32m      3\u001b[0m     y, x \u001b[38;5;241m=\u001b[39m stack\u001b[38;5;241m.\u001b[39mpop(), stack\u001b[38;5;241m.\u001b[39mpop()\n\u001b[0;32m----> 4\u001b[0m     stack\u001b[38;5;241m.\u001b[39mappend(\u001b[43mfct\u001b[49m\u001b[43m(\u001b[49m\u001b[43mx\u001b[49m\u001b[43m,\u001b[49m\u001b[43m \u001b[49m\u001b[43my\u001b[49m\u001b[43m)\u001b[49m)\n",
      "Cell \u001b[0;32mIn[65], line 4\u001b[0m, in \u001b[0;36m<lambda>\u001b[0;34m(x, y)\u001b[0m\n\u001b[1;32m      1\u001b[0m COMMANDS \u001b[38;5;241m=\u001b[39m {\u001b[38;5;124m'\u001b[39m\u001b[38;5;124m+\u001b[39m\u001b[38;5;124m'\u001b[39m: fct2(\u001b[38;5;28;01mlambda\u001b[39;00m x, y: x \u001b[38;5;241m+\u001b[39m y),\n\u001b[1;32m      2\u001b[0m             \u001b[38;5;124m'\u001b[39m\u001b[38;5;124m-\u001b[39m\u001b[38;5;124m'\u001b[39m: fct2(\u001b[38;5;28;01mlambda\u001b[39;00m x, y: x \u001b[38;5;241m-\u001b[39m y),\n\u001b[1;32m      3\u001b[0m             \u001b[38;5;124m'\u001b[39m\u001b[38;5;124m*\u001b[39m\u001b[38;5;124m'\u001b[39m: fct2(\u001b[38;5;28;01mlambda\u001b[39;00m x, y: x \u001b[38;5;241m*\u001b[39m y),\n\u001b[0;32m----> 4\u001b[0m             \u001b[38;5;124m'\u001b[39m\u001b[38;5;124m/\u001b[39m\u001b[38;5;124m'\u001b[39m: fct2(\u001b[38;5;28;01mlambda\u001b[39;00m x, y: \u001b[43mx\u001b[49m\u001b[43m \u001b[49m\u001b[38;5;241;43m/\u001b[39;49m\u001b[43m \u001b[49m\u001b[43my\u001b[49m),\n\u001b[1;32m      5\u001b[0m             \u001b[38;5;124m'\u001b[39m\u001b[38;5;124m^\u001b[39m\u001b[38;5;124m'\u001b[39m: fct2(\u001b[38;5;28;01mlambda\u001b[39;00m x, y: x \u001b[38;5;241m*\u001b[39m\u001b[38;5;241m*\u001b[39m y),\n\u001b[1;32m      6\u001b[0m             \u001b[38;5;124m'\u001b[39m\u001b[38;5;124mCOS\u001b[39m\u001b[38;5;124m'\u001b[39m: fct1(math\u001b[38;5;241m.\u001b[39mcos),\n\u001b[1;32m      7\u001b[0m             \u001b[38;5;124m'\u001b[39m\u001b[38;5;124mSIN\u001b[39m\u001b[38;5;124m'\u001b[39m: fct1(math\u001b[38;5;241m.\u001b[39msin),\n\u001b[1;32m      8\u001b[0m             \u001b[38;5;124m'\u001b[39m\u001b[38;5;124mTAN\u001b[39m\u001b[38;5;124m'\u001b[39m: fct1(math\u001b[38;5;241m.\u001b[39mtan),\n\u001b[1;32m      9\u001b[0m             \u001b[38;5;124m'\u001b[39m\u001b[38;5;124mACOS\u001b[39m\u001b[38;5;124m'\u001b[39m: fct1(math\u001b[38;5;241m.\u001b[39macos),\n\u001b[1;32m     10\u001b[0m             \u001b[38;5;124m'\u001b[39m\u001b[38;5;124mASIN\u001b[39m\u001b[38;5;124m'\u001b[39m: fct1(math\u001b[38;5;241m.\u001b[39masin),\n\u001b[1;32m     11\u001b[0m             \u001b[38;5;124m\"\u001b[39m\u001b[38;5;124mCEIL\u001b[39m\u001b[38;5;124m\"\u001b[39m: fct1(math\u001b[38;5;241m.\u001b[39mceil),\n\u001b[1;32m     12\u001b[0m             \u001b[38;5;124m'\u001b[39m\u001b[38;5;124mATAN\u001b[39m\u001b[38;5;124m'\u001b[39m: fct1(math\u001b[38;5;241m.\u001b[39matan),\n\u001b[1;32m     13\u001b[0m             \u001b[38;5;124m'\u001b[39m\u001b[38;5;124mLN\u001b[39m\u001b[38;5;124m'\u001b[39m: fct1(math\u001b[38;5;241m.\u001b[39mlog),\n\u001b[1;32m     14\u001b[0m             \u001b[38;5;124m'\u001b[39m\u001b[38;5;124mLOG\u001b[39m\u001b[38;5;124m'\u001b[39m: fct1(math\u001b[38;5;241m.\u001b[39mlog10),\n\u001b[1;32m     15\u001b[0m             \u001b[38;5;124m'\u001b[39m\u001b[38;5;124mEXP\u001b[39m\u001b[38;5;124m'\u001b[39m: fct1(math\u001b[38;5;241m.\u001b[39mexp),\n\u001b[1;32m     16\u001b[0m             \u001b[38;5;124m'\u001b[39m\u001b[38;5;124mABS\u001b[39m\u001b[38;5;124m'\u001b[39m: fct1(math\u001b[38;5;241m.\u001b[39mfabs),\n\u001b[1;32m     17\u001b[0m             \u001b[38;5;124m'\u001b[39m\u001b[38;5;124mDUP\u001b[39m\u001b[38;5;124m'\u001b[39m: dup,\n\u001b[1;32m     18\u001b[0m             \u001b[38;5;124m'\u001b[39m\u001b[38;5;124mSWAP\u001b[39m\u001b[38;5;124m'\u001b[39m: swap,\n\u001b[1;32m     19\u001b[0m             \u001b[38;5;124m'\u001b[39m\u001b[38;5;124mDROP\u001b[39m\u001b[38;5;124m'\u001b[39m: drop,\n\u001b[1;32m     20\u001b[0m             }\n\u001b[1;32m     22\u001b[0m pprint(COMMANDS)\n",
      "\u001b[0;31mZeroDivisionError\u001b[0m: float division by zero"
     ]
    }
   ],
   "source": [
    "text_3 = '3 0 /'\n",
    "stack_3 = interpreter(text_3)\n",
    "print(stack_3)"
   ]
  },
  {
   "cell_type": "markdown",
   "id": "bbd5354e-d2bb-4cbc-83b9-fa28df923d0c",
   "metadata": {},
   "source": [
    "\n",
    "##### b. Réfléchir à une autre solution (N.B. : avoir des ‘if/elif’ en cascade n’est ni lisible ni simplement extensible ni maintenable dans le temps) "
   ]
  },
  {
   "cell_type": "code",
   "execution_count": 73,
   "id": "3d4e2e04-1d32-4fa6-9eb1-8bb534ac20de",
   "metadata": {
    "tags": []
   },
   "outputs": [],
   "source": [
    "def interpreter(text: str, line_number: int = 0):\n",
    "    # decompose\n",
    "    stack = []\n",
    "    commands = text.split()\n",
    "\n",
    "    # execute commands\n",
    "    for command in commands:\n",
    "        # is it a number?\n",
    "        try:\n",
    "            stack.append(float(command))\n",
    "            continue\n",
    "        except ValueError:\n",
    "            pass\n",
    "\n",
    "        # is it a command?\n",
    "        try:\n",
    "            fct = COMMANDS[command]\n",
    "        except KeyError:\n",
    "            print(F\"ERROR[line={line_number}]: invalid command '{command}'\")\n",
    "            return\n",
    "\n",
    "        # compute\n",
    "        try:\n",
    "            fct(stack)\n",
    "        except Exception as e:\n",
    "            print(\n",
    "                F\"ERROR {e}: [line={line_number}]: unknown error on executing \"\n",
    "                F\"'{command}' witch stack {stack}\")\n",
    "            return\n",
    "\n",
    "    return stack"
   ]
  },
  {
   "cell_type": "code",
   "execution_count": 74,
   "id": "afa7fa3f-8955-45cf-a2a4-17a0fce8e3cd",
   "metadata": {
    "tags": []
   },
   "outputs": [
    {
     "name": "stdout",
     "output_type": "stream",
     "text": [
      "[0.30061609709062936]\n"
     ]
    }
   ],
   "source": [
    "text_1 = '3 3.14 * 4 / DUP SIN SWAP /'\n",
    "stack_1 = interpreter(text_1)\n",
    "print(stack_1)"
   ]
  },
  {
   "cell_type": "code",
   "execution_count": 75,
   "id": "7eaff525-b9d6-4367-ad2a-2115d1fe6be2",
   "metadata": {
    "tags": []
   },
   "outputs": [
    {
     "name": "stdout",
     "output_type": "stream",
     "text": [
      "ERROR[line=0]: invalid command 'pi'\n",
      "None\n"
     ]
    }
   ],
   "source": [
    "text_2 = '3 pi * 4 / DUP SIN SWAP /'\n",
    "stack_2 = interpreter(text_2)\n",
    "print(stack_2)"
   ]
  },
  {
   "cell_type": "code",
   "execution_count": 76,
   "id": "6603c960-6897-49a4-b571-d0aef110d7c0",
   "metadata": {
    "tags": []
   },
   "outputs": [
    {
     "name": "stdout",
     "output_type": "stream",
     "text": [
      "ERROR pop from empty list: [line=0]: unknown error on executing '/' witch stack []\n",
      "None\n"
     ]
    }
   ],
   "source": [
    "text_3 = '3 SIN /'\n",
    "stack_3 = interpreter(text_3)\n",
    "print(stack_3)"
   ]
  },
  {
   "cell_type": "code",
   "execution_count": 77,
   "id": "504031d9-730e-4389-bfab-6f9ac6c85b8c",
   "metadata": {
    "tags": []
   },
   "outputs": [
    {
     "name": "stdout",
     "output_type": "stream",
     "text": [
      "ERROR float division by zero: [line=0]: unknown error on executing '/' witch stack []\n",
      "None\n"
     ]
    }
   ],
   "source": [
    "text_3 = '3 0 /'\n",
    "stack_3 = interpreter(text_3)\n",
    "print(stack_3)"
   ]
  },
  {
   "cell_type": "markdown",
   "id": "f93756d2-672a-4b7d-be3b-58d1c09acf60",
   "metadata": {},
   "source": [
    "### Exo10\n",
    "Lire le fichier “sample/1.txt” en extrayant les textes non commentaires ligne par ligne pour appliquer la fonction interpreter avant d’imprimer les résultats. Par ailleurs, enrichir interpreter avec l’argument d’entrée line_number pour indiquer les erreurs des lignes textuelles dans le fichier au cas où. "
   ]
  },
  {
   "cell_type": "code",
   "execution_count": 78,
   "id": "0b130142-5a1b-415f-b75c-5dd258e91754",
   "metadata": {
    "tags": []
   },
   "outputs": [],
   "source": [
    "from pathlib import Path\n",
    "def read_file(filename: Path):\n",
    "    with open(filename, \"r\") as file:\n",
    "        for line_number, line in enumerate(file, 1):\n",
    "            # treat blank/comment lines\n",
    "            line = line.strip()\n",
    "            if 0 == len(line) or \"#\" == line[0]:\n",
    "                continue\n",
    "\n",
    "            # interpret\n",
    "            result = interpreter(line, line_number)\n",
    "            print(result)"
   ]
  },
  {
   "cell_type": "code",
   "execution_count": 79,
   "id": "b273954e-22e5-4016-9404-8fc37062ab1e",
   "metadata": {
    "tags": []
   },
   "outputs": [
    {
     "data": {
      "text/plain": [
       "PosixPath('/Users/ruijinghu/PycharmProjects/calcul_formation/samples/1.txt')"
      ]
     },
     "execution_count": 79,
     "metadata": {},
     "output_type": "execute_result"
    }
   ],
   "source": [
    "fp = Path.cwd().parents[0] / 'samples' / '1.txt'\n",
    "fp"
   ]
  },
  {
   "cell_type": "code",
   "execution_count": 80,
   "id": "b455f166-1463-4526-b30d-318b506a3d1f",
   "metadata": {
    "tags": []
   },
   "outputs": [
    {
     "name": "stdout",
     "output_type": "stream",
     "text": [
      "[49.0]\n",
      "[1.5722450079684882]\n"
     ]
    }
   ],
   "source": [
    "read_file(fp)"
   ]
  },
  {
   "cell_type": "markdown",
   "id": "3bc89128-dcee-4ee4-b6d3-642bc46db978",
   "metadata": {},
   "source": [
    "### Exo11\n",
    "Parcourir le dossier “sample” pour manipuler tous les fichiers .txt dedans. "
   ]
  },
  {
   "cell_type": "code",
   "execution_count": 81,
   "id": "985049ab-82df-4c53-93d1-d3d5f373c48c",
   "metadata": {
    "tags": []
   },
   "outputs": [],
   "source": [
    "def read_files(f_dir: Path):\n",
    "    for fp in sorted(f_dir.glob('*.txt')):\n",
    "        print(fp)\n",
    "        read_file(fp)"
   ]
  },
  {
   "cell_type": "code",
   "execution_count": 82,
   "id": "5c63348f-937b-4f69-87a8-c463c5d9bd0b",
   "metadata": {
    "tags": []
   },
   "outputs": [
    {
     "data": {
      "text/plain": [
       "PosixPath('/Users/ruijinghu/PycharmProjects/calcul_formation/samples')"
      ]
     },
     "execution_count": 82,
     "metadata": {},
     "output_type": "execute_result"
    }
   ],
   "source": [
    "file_dir = Path.cwd().parents[0] / 'samples'\n",
    "file_dir"
   ]
  },
  {
   "cell_type": "code",
   "execution_count": 83,
   "id": "55230eee-f58c-47bf-8d81-d28c94dc44af",
   "metadata": {
    "tags": []
   },
   "outputs": [
    {
     "name": "stdout",
     "output_type": "stream",
     "text": [
      "/Users/ruijinghu/PycharmProjects/calcul_formation/samples/1.txt\n",
      "[49.0]\n",
      "[1.5722450079684882]\n",
      "/Users/ruijinghu/PycharmProjects/calcul_formation/samples/2.txt\n",
      "[0.30061609709062936]\n"
     ]
    }
   ],
   "source": [
    "read_files(file_dir)"
   ]
  },
  {
   "cell_type": "markdown",
   "id": "fbcb75ad-677e-4af6-8d80-e9b56d9d7886",
   "metadata": {},
   "source": [
    "### Exo12\n",
    "Érire un décorateur pour mesurer le temps d’exécution d’une fonction. "
   ]
  },
  {
   "cell_type": "code",
   "execution_count": 88,
   "id": "2779b72d-34e7-431d-ad3d-4d62355d4148",
   "metadata": {
    "tags": []
   },
   "outputs": [],
   "source": [
    "import time\n",
    "def timing(func):\n",
    "    \"\"\"\n",
    "    Mesure le temps d'exécution d'une fonction.\n",
    "    \"\"\"\n",
    "    def wrapper(*args, **kwargs):\n",
    "        \"\"\"\n",
    "        wrapper dans timing\n",
    "        :param args: \n",
    "        :param kwargs: \n",
    "        :return: \n",
    "        \"\"\"\n",
    "        start_time = time.perf_counter()\n",
    "        func(*args, **kwargs)\n",
    "        end_time = time.perf_counter()\n",
    "        print(f\"Durée d'exécution : {end_time - start_time :1.3f}s\")\n",
    "\n",
    "    return wrapper"
   ]
  },
  {
   "cell_type": "code",
   "execution_count": 89,
   "id": "ce22a575-9e39-4c47-bad0-bc5c56be8a9f",
   "metadata": {
    "tags": []
   },
   "outputs": [
    {
     "name": "stdout",
     "output_type": "stream",
     "text": [
      "Début ...\n",
      "Fin !\n",
      "Durée d'exécution : 2.007s\n"
     ]
    }
   ],
   "source": [
    "@timing\n",
    "def pause(t):\n",
    "    \"\"\"\n",
    "    Pause \n",
    "    :param t: seconde\n",
    "    :return:\n",
    "    \"\"\"\n",
    "    print(\"Début ...\")\n",
    "    time.sleep(t)  # Pause de t secondes\n",
    "    print(\"Fin !\")\n",
    "    \n",
    "pause(t=2)"
   ]
  },
  {
   "cell_type": "code",
   "execution_count": 91,
   "id": "c903536d-9d6a-4b5b-80a5-8c88b7538a6a",
   "metadata": {},
   "outputs": [
    {
     "name": "stdout",
     "output_type": "stream",
     "text": [
      "('\\n'\n",
      " '        wrapper dans timing\\n'\n",
      " '        :param args: \\n'\n",
      " '        :param kwargs: \\n'\n",
      " '        :return: \\n'\n",
      " '        ')\n"
     ]
    }
   ],
   "source": [
    "pprint(pause.__doc__)"
   ]
  },
  {
   "cell_type": "code",
   "execution_count": 96,
   "id": "4797cfe8-1b95-45ab-9a07-2e0599e31bde",
   "metadata": {
    "tags": []
   },
   "outputs": [],
   "source": [
    "import functools"
   ]
  },
  {
   "cell_type": "code",
   "execution_count": 99,
   "id": "81c5956b-7cf0-40fe-bace-9f097d0b3f07",
   "metadata": {
    "tags": []
   },
   "outputs": [],
   "source": [
    "def timing(func):\n",
    "    \"\"\"\n",
    "    Mesure le temps d'exécution d'une fonction.\n",
    "    \"\"\"\n",
    "    @functools.wraps(func)\n",
    "    def wrapper(*args, **kwargs):\n",
    "        \"\"\"\n",
    "        wrapper dans timing\n",
    "        :param args: \n",
    "        :param kwargs: \n",
    "        :return: \n",
    "        \"\"\"\n",
    "        start_time = time.perf_counter()\n",
    "        func(*args, **kwargs)\n",
    "        end_time = time.perf_counter()\n",
    "        print(f\"Durée d'exécution : {end_time - start_time :1.3f}s\")\n",
    "\n",
    "    return wrapper"
   ]
  },
  {
   "cell_type": "code",
   "execution_count": 102,
   "id": "7a46581b-7eb3-419b-97e1-9d1e4bb799a4",
   "metadata": {
    "tags": []
   },
   "outputs": [],
   "source": [
    "@timing\n",
    "def pause(t):\n",
    "    \"\"\"\n",
    "    Pause \n",
    "    :param t: seconde\n",
    "    :return:\n",
    "    \"\"\"\n",
    "    print(\"Début ...\")\n",
    "    time.sleep(t)  # Pause de t secondes\n",
    "    print(\"Fin !\")\n"
   ]
  },
  {
   "cell_type": "code",
   "execution_count": 101,
   "id": "7034eed6-f817-440c-a5d6-a79ab05e2bd9",
   "metadata": {
    "tags": []
   },
   "outputs": [
    {
     "name": "stdout",
     "output_type": "stream",
     "text": [
      "'\\n    Pause \\n    :param t: seconde\\n    :return:\\n    '\n"
     ]
    }
   ],
   "source": [
    "pprint(pause.__doc__)"
   ]
  },
  {
   "cell_type": "markdown",
   "id": "feca9c06-2951-431a-9cc5-267047a9bb51",
   "metadata": {},
   "source": [
    "### Exo12-bis\n",
    "Et si on le fait avec context manager ? "
   ]
  },
  {
   "cell_type": "code",
   "execution_count": 1,
   "id": "3cebd597-f29e-4cd5-be04-256b2f032025",
   "metadata": {
    "tags": []
   },
   "outputs": [],
   "source": [
    "import datetime\n",
    "import functools\n",
    "import time\n",
    "from typing import Callable\n",
    "\n",
    "\n",
    "class EvaluationTime:\n",
    "    def __init__(self, fct_name):\n",
    "        self._fct_name = fct_name\n",
    "        self._init_time = datetime.datetime.now()\n",
    "\n",
    "    def __enter__(self):\n",
    "        print(f\"Started: {self._fct_name} at {self._init_time}\")\n",
    "        return self\n",
    "\n",
    "    def __exit__(self, exc_type, exc_val, exc_tb):\n",
    "        print(f\"Finished: {self._fct_name} in \"\n",
    "              f\"{datetime.datetime.now() - self._init_time}\")\n",
    "\n",
    "\n",
    "def timing(fct: Callable):\n",
    "    @functools.wraps(fct)\n",
    "    def fct_wrapper(*args, **kwargs):\n",
    "        with EvaluationTime(fct.__qualname__):\n",
    "            return fct(*args, **kwargs)\n",
    "\n",
    "    return fct_wrapper"
   ]
  },
  {
   "cell_type": "code",
   "execution_count": 2,
   "id": "5a9a9e92-6655-4da0-b1ba-bb7d1cfd3e95",
   "metadata": {
    "tags": []
   },
   "outputs": [],
   "source": [
    "@timing\n",
    "def pause(t: float):\n",
    "    \"\"\"\n",
    "    Pause function\n",
    "    :param t: second\n",
    "    :return:\n",
    "    \"\"\"\n",
    "    print(\"Begin ...\")\n",
    "    time.sleep(t)  # Pause de t secondes\n",
    "    print(\"End!\")"
   ]
  },
  {
   "cell_type": "code",
   "execution_count": 3,
   "id": "2f092cca-8e52-4eb6-a6dd-0f9ee8ef50ce",
   "metadata": {
    "tags": []
   },
   "outputs": [
    {
     "name": "stdout",
     "output_type": "stream",
     "text": [
      "Started: pause at 2023-03-13 10:39:12.446394\n",
      "Begin ...\n",
      "End!\n",
      "Finished: pause in 0:00:02.005162\n"
     ]
    }
   ],
   "source": [
    "pause(t=2)"
   ]
  },
  {
   "cell_type": "code",
   "execution_count": null,
   "id": "066da544-a2f9-4c06-a72c-5f2eaf290df0",
   "metadata": {},
   "outputs": [],
   "source": []
  }
 ],
 "metadata": {
  "kernelspec": {
   "display_name": "Python 3 (ipykernel)",
   "language": "python",
   "name": "python3"
  },
  "language_info": {
   "codemirror_mode": {
    "name": "ipython",
    "version": 3
   },
   "file_extension": ".py",
   "mimetype": "text/x-python",
   "name": "python",
   "nbconvert_exporter": "python",
   "pygments_lexer": "ipython3",
   "version": "3.8.0"
  }
 },
 "nbformat": 4,
 "nbformat_minor": 5
}
