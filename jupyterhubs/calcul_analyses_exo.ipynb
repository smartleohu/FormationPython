{
 "cells": [
  {
   "cell_type": "code",
   "execution_count": null,
   "id": "4995a55b-25dd-444b-8fd1-12242d7b06f9",
   "metadata": {
    "tags": []
   },
   "outputs": [],
   "source": [
    "!pip install jupytext --upgrade\n",
    "!jupytext --to py ./calcul_analyses.ipynb"
   ]
  },
  {
   "cell_type": "code",
   "execution_count": 2,
   "id": "add1c87c-b114-4e29-bb3e-28d57cde9492",
   "metadata": {
    "tags": []
   },
   "outputs": [
    {
     "data": {
      "text/plain": [
       "sys.version_info(major=3, minor=10, micro=8, releaselevel='final', serial=0)"
      ]
     },
     "execution_count": 2,
     "metadata": {},
     "output_type": "execute_result"
    }
   ],
   "source": [
    "import sys\n",
    "sys.version_info"
   ]
  },
  {
   "cell_type": "markdown",
   "id": "73964a14-1283-4b5c-baa1-4d71c1293479",
   "metadata": {},
   "source": [
    "# Notation\n",
    "https://fr.wikipedia.org/wiki/Notation_polonaise_inverse"
   ]
  },
  {
   "cell_type": "markdown",
   "id": "8006d6b2-8429-4030-b7c1-244a4096066c",
   "metadata": {},
   "source": [
    "***\n",
    "$\\mathbf{\\text{Noatition Polonaise Inverse}}$<br>\n",
    "***"
   ]
  },
  {
   "cell_type": "markdown",
   "id": "e4b5525c-10ab-4989-b29a-39c7de7ab08a",
   "metadata": {
    "tags": []
   },
   "source": [
    "![CPT-RPN](CPT-RPN-example1.png)"
   ]
  },
  {
   "cell_type": "markdown",
   "id": "02e9ced9-7fb4-423b-b520-db9d696ca9f0",
   "metadata": {},
   "source": [
    "### exo1: \n",
    "Utiliser le console en Pycharm et le notebook chez Jupyter lab pour commencer les manipulations arithmétiques sur les nombres. Afficher les résultats par print.  "
   ]
  },
  {
   "cell_type": "markdown",
   "id": "bb459349-c2e0-4d7e-9ef4-3ef29169104d",
   "metadata": {},
   "source": [
    "- +, -, *, / : les 4 opérations \n",
    "- ^ : la puissance \n",
    "- CEIL : l'arrondi vers le haut\n",
    "- COS, SIN, TAN, ACOS, ASIN, ATAN : fonctions trigonométriques \n",
    "- LN, LOG, EXP : fonctions logarithmiques (LN pour logarithme népérien, et LOG pour le logarithme décimal) "
   ]
  },
  {
   "cell_type": "code",
   "execution_count": 3,
   "id": "090d1145-2fa8-400f-9028-081d4a0682c6",
   "metadata": {},
   "outputs": [],
   "source": [
    "import math"
   ]
  },
  {
   "cell_type": "code",
   "execution_count": 4,
   "id": "be39b927-ff14-41a6-96a0-6272de0a2352",
   "metadata": {
    "tags": []
   },
   "outputs": [
    {
     "data": {
      "text/plain": [
       "1000"
      ]
     },
     "execution_count": 4,
     "metadata": {},
     "output_type": "execute_result"
    }
   ],
   "source": [
    "10**3"
   ]
  },
  {
   "cell_type": "code",
   "execution_count": 5,
   "id": "ea1fa02c-06b5-4982-bbe9-48a3a7c1d2af",
   "metadata": {
    "tags": []
   },
   "outputs": [
    {
     "data": {
      "text/plain": [
       "0.0"
      ]
     },
     "execution_count": 5,
     "metadata": {},
     "output_type": "execute_result"
    }
   ],
   "source": [
    "math.log(1)"
   ]
  },
  {
   "cell_type": "code",
   "execution_count": 6,
   "id": "d71aa5d0-083e-40e4-9577-dfeef53ab2b7",
   "metadata": {
    "tags": []
   },
   "outputs": [
    {
     "data": {
      "text/plain": [
       "1.0"
      ]
     },
     "execution_count": 6,
     "metadata": {},
     "output_type": "execute_result"
    }
   ],
   "source": [
    "math.log10(10)"
   ]
  },
  {
   "cell_type": "code",
   "execution_count": 7,
   "id": "d55bc16d-45c3-4fb0-b5f7-30ac456ea9f9",
   "metadata": {
    "tags": []
   },
   "outputs": [
    {
     "data": {
      "text/plain": [
       "1.0"
      ]
     },
     "execution_count": 7,
     "metadata": {},
     "output_type": "execute_result"
    }
   ],
   "source": [
    "math.exp(0)"
   ]
  },
  {
   "cell_type": "code",
   "execution_count": 8,
   "id": "9d5f8afe-6987-4994-9f6e-170b07d93abb",
   "metadata": {
    "tags": []
   },
   "outputs": [
    {
     "data": {
      "text/plain": [
       "1.0"
      ]
     },
     "execution_count": 8,
     "metadata": {},
     "output_type": "execute_result"
    }
   ],
   "source": [
    "math.cos(0)"
   ]
  },
  {
   "cell_type": "code",
   "execution_count": 9,
   "id": "f2c96eea-c021-4d1a-aa6f-8b8987318257",
   "metadata": {
    "tags": []
   },
   "outputs": [
    {
     "data": {
      "text/plain": [
       "-1.0"
      ]
     },
     "execution_count": 9,
     "metadata": {},
     "output_type": "execute_result"
    }
   ],
   "source": [
    "math.cos(math.pi)"
   ]
  },
  {
   "cell_type": "code",
   "execution_count": 10,
   "id": "6a69b3a3-758f-44a9-8a8f-fa4790aff7a5",
   "metadata": {
    "tags": []
   },
   "outputs": [
    {
     "data": {
      "text/plain": [
       "30.0"
      ]
     },
     "execution_count": 10,
     "metadata": {},
     "output_type": "execute_result"
    }
   ],
   "source": [
    "round(math.degrees(math.asin(0.5)),2)"
   ]
  },
  {
   "cell_type": "markdown",
   "id": "ce53715a-27be-45f1-95c2-08baaddfc147",
   "metadata": {},
   "source": [
    "2 5 + DUP * "
   ]
  },
  {
   "cell_type": "code",
   "execution_count": 11,
   "id": "bc5757f2-1450-4b4b-89ac-c21f9ddfeda0",
   "metadata": {
    "tags": []
   },
   "outputs": [],
   "source": [
    "a, b = 2, 5"
   ]
  },
  {
   "cell_type": "code",
   "execution_count": 12,
   "id": "6bfa8092-012b-4653-bbc9-d6695a198308",
   "metadata": {
    "tags": []
   },
   "outputs": [],
   "source": [
    "c = a + b"
   ]
  },
  {
   "cell_type": "code",
   "execution_count": 13,
   "id": "b8d5ecdc-1f67-4587-b635-d1a195dce1df",
   "metadata": {
    "tags": []
   },
   "outputs": [],
   "source": [
    "c_bis = c"
   ]
  },
  {
   "cell_type": "code",
   "execution_count": 14,
   "id": "1229e83f-25a5-42b1-9e7c-8d8cfa74bd63",
   "metadata": {
    "tags": []
   },
   "outputs": [
    {
     "data": {
      "text/plain": [
       "49"
      ]
     },
     "execution_count": 14,
     "metadata": {},
     "output_type": "execute_result"
    }
   ],
   "source": [
    "c * c_bis"
   ]
  },
  {
   "cell_type": "markdown",
   "id": "05432063-0234-40ee-9f91-8006a9ce27a9",
   "metadata": {},
   "source": [
    "12 0.5 SIN * 36 0.5 COS * + ABS LOG "
   ]
  },
  {
   "cell_type": "code",
   "execution_count": 15,
   "id": "adc13f25-c86c-4747-ba1b-43aa1a0266e2",
   "metadata": {
    "tags": []
   },
   "outputs": [],
   "source": [
    "a, b = 12, 0.5"
   ]
  },
  {
   "cell_type": "code",
   "execution_count": 16,
   "id": "c23f30da-830e-453d-9a2e-50462f92351a",
   "metadata": {
    "tags": []
   },
   "outputs": [],
   "source": [
    "c = math.sin(b) * a"
   ]
  },
  {
   "cell_type": "code",
   "execution_count": 17,
   "id": "97fac54d-da7d-4aed-8bfa-2dab468ec765",
   "metadata": {
    "tags": []
   },
   "outputs": [],
   "source": [
    "d, e = 36, 0.5"
   ]
  },
  {
   "cell_type": "code",
   "execution_count": 18,
   "id": "f848c2b2-e0ef-42b7-a228-fc1a227be9b6",
   "metadata": {
    "tags": []
   },
   "outputs": [
    {
     "data": {
      "text/plain": [
       "37.34607869130386"
      ]
     },
     "execution_count": 18,
     "metadata": {},
     "output_type": "execute_result"
    }
   ],
   "source": [
    "f = math.cos(e) * d + c\n",
    "f"
   ]
  },
  {
   "cell_type": "code",
   "execution_count": 19,
   "id": "f2da3a27-e03a-4db2-a036-f43ba035fbc4",
   "metadata": {
    "tags": []
   },
   "outputs": [
    {
     "data": {
      "text/plain": [
       "37.34607869130386"
      ]
     },
     "execution_count": 19,
     "metadata": {},
     "output_type": "execute_result"
    }
   ],
   "source": [
    "g = abs(f)\n",
    "g"
   ]
  },
  {
   "cell_type": "code",
   "execution_count": 20,
   "id": "d47022db-76eb-45f0-8d4d-5070d6dc9173",
   "metadata": {
    "tags": []
   },
   "outputs": [
    {
     "data": {
      "text/plain": [
       "3.6202279178825454"
      ]
     },
     "execution_count": 20,
     "metadata": {},
     "output_type": "execute_result"
    }
   ],
   "source": [
    "math.log(g)"
   ]
  },
  {
   "cell_type": "code",
   "execution_count": 21,
   "id": "73bc71ae-892f-4ce1-83d3-33a9e3cf6991",
   "metadata": {
    "tags": []
   },
   "outputs": [
    {
     "data": {
      "text/plain": [
       "21.0"
      ]
     },
     "execution_count": 21,
     "metadata": {},
     "output_type": "execute_result"
    }
   ],
   "source": [
    "math.fabs(-21)"
   ]
  },
  {
   "cell_type": "code",
   "execution_count": 22,
   "id": "34ab9454-03eb-470b-b46a-7fec97a602a2",
   "metadata": {
    "tags": []
   },
   "outputs": [
    {
     "data": {
      "text/plain": [
       "21"
      ]
     },
     "execution_count": 22,
     "metadata": {},
     "output_type": "execute_result"
    }
   ],
   "source": [
    "abs(-21)"
   ]
  },
  {
   "cell_type": "code",
   "execution_count": 23,
   "id": "037552fa-81aa-45c6-8d60-a94993223898",
   "metadata": {
    "tags": []
   },
   "outputs": [
    {
     "data": {
      "text/plain": [
       "21.5"
      ]
     },
     "execution_count": 23,
     "metadata": {},
     "output_type": "execute_result"
    }
   ],
   "source": [
    "abs(-21.5)"
   ]
  },
  {
   "cell_type": "code",
   "execution_count": 24,
   "id": "92507c2e-79a8-44fb-ac7d-3950d775462b",
   "metadata": {
    "tags": []
   },
   "outputs": [
    {
     "data": {
      "text/plain": [
       "-21"
      ]
     },
     "execution_count": 24,
     "metadata": {},
     "output_type": "execute_result"
    }
   ],
   "source": [
    "math.ceil(-21.5)"
   ]
  },
  {
   "cell_type": "markdown",
   "id": "e3fc0d2a-b599-491a-8130-eb8cfbd00266",
   "metadata": {},
   "source": [
    "### Exo2:\n",
    "Interpréter les manipulations mathématiques en notation polonaise inverse, et verse versa.  "
   ]
  },
  {
   "cell_type": "markdown",
   "id": "520f6ee3-4e04-4831-b825-86d2ae2bce4f",
   "metadata": {},
   "source": [
    "1.&emsp;exemple $$\\frac{sin(\\frac{3\\times \\pi}{4})}{\\frac{3\\times \\pi}{4}}$$"
   ]
  },
  {
   "cell_type": "markdown",
   "id": "801a7fca-b56f-4e2c-aa0a-7544fc416f66",
   "metadata": {},
   "source": [
    "### Exo3:\n",
    "Utiliser la liste pour créer une pile. Pousser les éléments en notation polonaise inverse dans une liste.  "
   ]
  },
  {
   "cell_type": "code",
   "execution_count": 25,
   "id": "52e9606d-624d-4a5c-92ad-b2b4dcb3cf30",
   "metadata": {
    "tags": []
   },
   "outputs": [
    {
     "data": {
      "text/plain": [
       "'2 5 + DUP *'"
      ]
     },
     "execution_count": 25,
     "metadata": {},
     "output_type": "execute_result"
    }
   ],
   "source": [
    "text1 = '2 5 + DUP *'\n",
    "text1"
   ]
  },
  {
   "cell_type": "markdown",
   "id": "951de0d0-ba40-4155-a070-a8b62fe39892",
   "metadata": {},
   "source": [
    "### Exo4\n",
    "Définir 3 fonctions pour mettre en œuvre les manipulations logiques : DUP, DROP, SWAP. "
   ]
  },
  {
   "cell_type": "markdown",
   "id": "e2993fb4-366d-4dc4-b988-5dc1fbcfb926",
   "metadata": {
    "tags": []
   },
   "source": [
    "### Exo5\n",
    "Distinguer deux types d’opérateurs : unitaires et binaires pour les manipulations.  "
   ]
  },
  {
   "cell_type": "markdown",
   "id": "dca0a21e-3d03-406d-861f-08f35c696021",
   "metadata": {},
   "source": [
    "### Exo6 \n",
    "Définir les fonctions lambda (anonymes) pour les opérateurs binaires. "
   ]
  },
  {
   "cell_type": "markdown",
   "id": "e476d976-4f54-4161-8948-692bb32aa6bb",
   "metadata": {
    "tags": []
   },
   "source": [
    "### Exo7\n",
    "Définir deux foncteurs : fct1 et fct2 pour prendre en argument d’entrée tous ces opérateurs de fonction lambda. "
   ]
  },
  {
   "cell_type": "markdown",
   "id": "b866e2c9-4ab6-48b5-ab52-264004c18a59",
   "metadata": {},
   "source": [
    "### Exo8\n",
    "Créer un dictionnaire COMMANDS pour faire la correspondance entre les noms des opérateurs et ses définitions en foncteur.  "
   ]
  },
  {
   "cell_type": "markdown",
   "id": "ffac91c4-3c46-42bf-847f-ddb882288ec4",
   "metadata": {},
   "source": [
    "### Exo9\n",
    "Définir la fonction interpreter(text : str) pour interpréter un texte en chaîne de  caractères pour calculer le résultat. \n",
    "##### a. Utiliser IF et ELIF "
   ]
  },
  {
   "cell_type": "markdown",
   "id": "bbd5354e-d2bb-4cbc-83b9-fa28df923d0c",
   "metadata": {},
   "source": [
    "\n",
    "##### b. Réfléchir à une autre solution (N.B. : avoir des ‘if/elif’ en cascade n’est ni lisible ni simplement extensible ni maintenable dans le temps) "
   ]
  },
  {
   "cell_type": "markdown",
   "id": "f93756d2-672a-4b7d-be3b-58d1c09acf60",
   "metadata": {},
   "source": [
    "### Exo10\n",
    "Lire le fichier “sample/1.txt” en extrayant les textes non commentaires ligne par ligne pour appliquer la fonction interpreter avant d’imprimer les résultats. Par ailleurs, enrichir interpreter avec l’argument d’entrée line_number pour indiquer les erreurs des lignes textuelles dans le fichier au cas où. "
   ]
  },
  {
   "cell_type": "markdown",
   "id": "3bc89128-dcee-4ee4-b6d3-642bc46db978",
   "metadata": {},
   "source": [
    "### Exo11\n",
    "Parcourir le dossier “sample” pour manipuler tous les fichiers .txt dedans. "
   ]
  },
  {
   "cell_type": "markdown",
   "id": "fbcb75ad-677e-4af6-8d80-e9b56d9d7886",
   "metadata": {},
   "source": [
    "### Exo12\n",
    "Érire un décorateur pour mesurer le temps d’exécution d’une fonction. "
   ]
  },
  {
   "cell_type": "markdown",
   "id": "feca9c06-2951-431a-9cc5-267047a9bb51",
   "metadata": {},
   "source": [
    "### Exo12-bis\n",
    "Et si on le fait avec context manager ? "
   ]
  }
 ],
 "metadata": {
  "kernelspec": {
   "display_name": "python3.10",
   "language": "python",
   "name": "python3.10"
  },
  "language_info": {
   "codemirror_mode": {
    "name": "ipython",
    "version": 3
   },
   "file_extension": ".py",
   "mimetype": "text/x-python",
   "name": "python",
   "nbconvert_exporter": "python",
   "pygments_lexer": "ipython3",
   "version": "3.10.8"
  }
 },
 "nbformat": 4,
 "nbformat_minor": 5
}
